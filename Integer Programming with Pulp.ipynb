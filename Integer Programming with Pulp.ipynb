{
 "cells": [
  {
   "cell_type": "code",
   "execution_count": 1,
   "id": "6af07ea6-61b2-4316-a44d-8714c84fb5d2",
   "metadata": {},
   "outputs": [
    {
     "name": "stdout",
     "output_type": "stream",
     "text": [
      "Collecting pulpNote: you may need to restart the kernel to use updated packages.\n",
      "  Downloading PuLP-2.6.0-py3-none-any.whl (14.2 MB)\n",
      "Installing collected packages: pulp\n",
      "Successfully installed pulp-2.6.0\n",
      "\n"
     ]
    },
    {
     "name": "stderr",
     "output_type": "stream",
     "text": [
      "Error processing line 1 of C:\\Users\\Asus\\anaconda31\\lib\\site-packages\\matplotlib-3.4.2-py3.8-nspkg.pth:\n",
      "\n",
      "  Traceback (most recent call last):\n",
      "    File \"C:\\Users\\Asus\\anaconda31\\lib\\site.py\", line 169, in addpackage\n",
      "      exec(line)\n",
      "    File \"<string>\", line 1, in <module>\n",
      "    File \"<frozen importlib._bootstrap>\", line 553, in module_from_spec\n",
      "  AttributeError: 'NoneType' object has no attribute 'loader'\n",
      "\n",
      "Remainder of file ignored\n"
     ]
    }
   ],
   "source": [
    "pip install pulp\n"
   ]
  },
  {
   "cell_type": "code",
   "execution_count": 73,
   "id": "179a4b51-ed54-4fbc-b48e-4254f1d7f9e3",
   "metadata": {},
   "outputs": [],
   "source": [
    "import pulp"
   ]
  },
  {
   "cell_type": "code",
   "execution_count": 74,
   "id": "3ada2bb2-bc9b-4b33-951d-de72f5b39c33",
   "metadata": {},
   "outputs": [],
   "source": [
    "model= pulp.LpProblem(\"Kacha\",pulp.LpMaximize)"
   ]
  },
  {
   "cell_type": "code",
   "execution_count": 75,
   "id": "5187139e-eb54-4cd6-b335-eccb338d3064",
   "metadata": {},
   "outputs": [
    {
     "name": "stdout",
     "output_type": "stream",
     "text": [
      "Kacha:\n",
      "MAXIMIZE\n",
      "None\n",
      "VARIABLES\n",
      "\n"
     ]
    }
   ],
   "source": [
    "print(model)"
   ]
  },
  {
   "cell_type": "code",
   "execution_count": 76,
   "id": "265faf2d-c6fd-49ff-9ca7-881c31b2a20c",
   "metadata": {},
   "outputs": [],
   "source": [
    "x1=pulp.LpVariable('x1',lowBound=0,upBound=None,cat='Integer')\n"
   ]
  },
  {
   "cell_type": "code",
   "execution_count": 77,
   "id": "d14399ba-393a-473c-beb5-5ac33ad09967",
   "metadata": {},
   "outputs": [],
   "source": [
    "x2=pulp.LpVariable('x2',lowBound=0,upBound= None,cat='Integer')"
   ]
  },
  {
   "cell_type": "code",
   "execution_count": 78,
   "id": "378f9840-ab2b-41b0-89b8-65af16b34c04",
   "metadata": {},
   "outputs": [],
   "source": [
    "model += x1*25 + x2*35"
   ]
  },
  {
   "cell_type": "code",
   "execution_count": 79,
   "id": "1d96430e-2984-493c-b54e-204106a35cbf",
   "metadata": {},
   "outputs": [
    {
     "name": "stdout",
     "output_type": "stream",
     "text": [
      "Kacha:\n",
      "MAXIMIZE\n",
      "25*x1 + 35*x2 + 0\n",
      "VARIABLES\n",
      "0 <= x1 Integer\n",
      "0 <= x2 Integer\n",
      "\n"
     ]
    }
   ],
   "source": [
    "print(model)"
   ]
  },
  {
   "cell_type": "code",
   "execution_count": 80,
   "id": "fec8e96a-3c72-4ed4-88b1-f966f40a0f49",
   "metadata": {},
   "outputs": [
    {
     "data": {
      "text/plain": [
       "1"
      ]
     },
     "execution_count": 80,
     "metadata": {},
     "output_type": "execute_result"
    }
   ],
   "source": [
    "model += x1*0.3 +x2*0.5 <=20\n",
    "model += x1*0.5 +x2*0.5 <=35\n",
    "model.solve()"
   ]
  },
  {
   "cell_type": "code",
   "execution_count": 81,
   "id": "2fd287ec-7919-4304-87a5-ca54c1acc30a",
   "metadata": {},
   "outputs": [
    {
     "name": "stdout",
     "output_type": "stream",
     "text": [
      "Kacha:\n",
      "MAXIMIZE\n",
      "25*x1 + 35*x2 + 0\n",
      "SUBJECT TO\n",
      "_C1: 0.3 x1 + 0.5 x2 <= 20\n",
      "\n",
      "_C2: 0.5 x1 + 0.5 x2 <= 35\n",
      "\n",
      "VARIABLES\n",
      "0 <= x1 Integer\n",
      "0 <= x2 Integer\n",
      "\n"
     ]
    }
   ],
   "source": [
    "print(model)"
   ]
  },
  {
   "cell_type": "code",
   "execution_count": 82,
   "id": "1cc72447-94de-46f2-942b-b74e75808e0b",
   "metadata": {},
   "outputs": [
    {
     "data": {
      "text/plain": [
       "1"
      ]
     },
     "execution_count": 82,
     "metadata": {},
     "output_type": "execute_result"
    }
   ],
   "source": [
    "model.solve()"
   ]
  },
  {
   "cell_type": "code",
   "execution_count": 83,
   "id": "169b48e2-0443-406c-a0b8-e645292817f8",
   "metadata": {},
   "outputs": [
    {
     "data": {
      "text/plain": [
       "<bound method LpProblem.variables of Kacha:\n",
       "MAXIMIZE\n",
       "25*x1 + 35*x2 + 0\n",
       "SUBJECT TO\n",
       "_C1: 0.3 x1 + 0.5 x2 <= 20\n",
       "\n",
       "_C2: 0.5 x1 + 0.5 x2 <= 35\n",
       "\n",
       "VARIABLES\n",
       "0 <= x1 Integer\n",
       "0 <= x2 Integer\n",
       ">"
      ]
     },
     "execution_count": 83,
     "metadata": {},
     "output_type": "execute_result"
    }
   ],
   "source": [
    "model.variables"
   ]
  },
  {
   "cell_type": "code",
   "execution_count": 85,
   "id": "3f1ce5f4-3711-41c3-805e-eeafe5efcffc",
   "metadata": {},
   "outputs": [
    {
     "data": {
      "text/plain": [
       "65.0"
      ]
     },
     "execution_count": 85,
     "metadata": {},
     "output_type": "execute_result"
    }
   ],
   "source": [
    "x1.value()"
   ]
  },
  {
   "cell_type": "code",
   "execution_count": 86,
   "id": "e9d91c69-203b-48aa-9468-2f362b578225",
   "metadata": {},
   "outputs": [
    {
     "data": {
      "text/plain": [
       "1.0"
      ]
     },
     "execution_count": 86,
     "metadata": {},
     "output_type": "execute_result"
    }
   ],
   "source": [
    "x2.value()"
   ]
  },
  {
   "cell_type": "code",
   "execution_count": 87,
   "id": "23dce229-4ed2-48fe-9feb-62958c15bd0e",
   "metadata": {},
   "outputs": [
    {
     "data": {
      "text/plain": [
       "25*x1 + 35*x2 + 0"
      ]
     },
     "execution_count": 87,
     "metadata": {},
     "output_type": "execute_result"
    }
   ],
   "source": [
    "model.objective"
   ]
  },
  {
   "cell_type": "code",
   "execution_count": 89,
   "id": "7ee1c523-46b0-469f-bbca-2e11f6cbed32",
   "metadata": {},
   "outputs": [
    {
     "data": {
      "text/plain": [
       "1660.0"
      ]
     },
     "execution_count": 89,
     "metadata": {},
     "output_type": "execute_result"
    }
   ],
   "source": [
    "pulp.value(model.objective)"
   ]
  },
  {
   "cell_type": "code",
   "execution_count": null,
   "id": "c4353da5-d571-4d3e-9f70-a57701284a1a",
   "metadata": {},
   "outputs": [],
   "source": []
  },
  {
   "cell_type": "code",
   "execution_count": null,
   "id": "d8954584-22d7-4e2e-9f4b-cc2cab43967e",
   "metadata": {},
   "outputs": [],
   "source": []
  },
  {
   "cell_type": "code",
   "execution_count": null,
   "id": "c14d5427-29df-485f-80f0-36ae02cd85a9",
   "metadata": {},
   "outputs": [],
   "source": []
  },
  {
   "cell_type": "code",
   "execution_count": null,
   "id": "12774bdb-f39c-4fda-973d-9b2c421dd717",
   "metadata": {},
   "outputs": [],
   "source": []
  }
 ],
 "metadata": {
  "kernelspec": {
   "display_name": "Python 3",
   "language": "python",
   "name": "python3"
  },
  "language_info": {
   "codemirror_mode": {
    "name": "ipython",
    "version": 3
   },
   "file_extension": ".py",
   "mimetype": "text/x-python",
   "name": "python",
   "nbconvert_exporter": "python",
   "pygments_lexer": "ipython3",
   "version": "3.8.5"
  }
 },
 "nbformat": 4,
 "nbformat_minor": 5
}
